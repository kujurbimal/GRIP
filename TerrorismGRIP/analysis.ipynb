{
 "cells": [
  {
   "cell_type": "code",
   "execution_count": 1,
   "id": "pharmaceutical-carolina",
   "metadata": {},
   "outputs": [
    {
     "name": "stdout",
     "output_type": "stream",
     "text": [
      "Setup Complete\n"
     ]
    }
   ],
   "source": [
    "import pandas as pd\n",
    "pd.plotting.register_matplotlib_converters()\n",
    "import matplotlib.pyplot as plt\n",
    "import numpy as np \n",
    "%matplotlib inline\n",
    "import seaborn as sns\n",
    "from IPython.core.pylabtools import figsize\n",
    "print(\"Setup Complete\")"
   ]
  },
  {
   "cell_type": "code",
   "execution_count": 2,
   "id": "alone-bridal",
   "metadata": {},
   "outputs": [
    {
     "name": "stderr",
     "output_type": "stream",
     "text": [
      "/home/kujurbimal/.local/lib/python3.8/site-packages/IPython/core/interactiveshell.py:3165: DtypeWarning: Columns (4,6,31,33,61,62,63,76,79,90,92,94,96,114,115,121) have mixed types.Specify dtype option on import or set low_memory=False.\n",
      "  has_raised = await self.run_ast_nodes(code_ast.body, cell_name,\n"
     ]
    }
   ],
   "source": [
    "df = pd.read_csv(\"globalterrorismdb_0718dist.csv\", encoding = \"ISO-8859-1\")"
   ]
  },
  {
   "cell_type": "code",
   "execution_count": 3,
   "id": "crazy-witness",
   "metadata": {},
   "outputs": [],
   "source": [
    "df.rename(columns={'iyear':'Year','country_txt':'Country','region_txt':'Region','success':'Success','attacktype1_txt':'AttackType','targtype1_txt':'TargetType','natlty1_txt':'TargetNationality','gname':'Group','weaptype1_txt':'WeaponType','nkill':'Killed','nwound':'Wounded'},inplace=True)"
   ]
  },
  {
   "cell_type": "code",
   "execution_count": null,
   "id": "square-edition",
   "metadata": {},
   "outputs": [],
   "source": [
    "# col = ['Year','Country','Region','Group','Success','AttackType','TargetType','TargetNationality','WeaponType','Killed','Wounded']\n",
    "df_proc = df[~df.Killed.isna()][col].reset_index(drop=True)\n",
    "df_proc.head()"
   ]
  },
  {
   "cell_type": "code",
   "execution_count": null,
   "id": "statistical-highland",
   "metadata": {},
   "outputs": [],
   "source": [
    "# df_proc['Decade'] = pd.cut(df_proc['Year'], bins=[1969, 1980, 1990, 2000, 2010, 2020], labels=['1970-1980', '1980-1990', '1990-2000', '2000-2010', '2010-2017'])\n",
    "df_proc.head(3)"
   ]
  },
  {
   "cell_type": "code",
   "execution_count": 4,
   "id": "surrounded-render",
   "metadata": {},
   "outputs": [
    {
     "ename": "SyntaxError",
     "evalue": "EOL while scanning string literal (<ipython-input-4-2993fb281232>, line 5)",
     "output_type": "error",
     "traceback": [
      "\u001b[0;36m  File \u001b[0;32m\"<ipython-input-4-2993fb281232>\"\u001b[0;36m, line \u001b[0;32m5\u001b[0m\n\u001b[0;31m    plt.ylabel('Number of attacks1\u001b[0m\n\u001b[0m                                  ^\u001b[0m\n\u001b[0;31mSyntaxError\u001b[0m\u001b[0;31m:\u001b[0m EOL while scanning string literal\n"
     ]
    }
   ],
   "source": [
    "figsize(16,8)\n",
    "sns.barplot(df_proc['Country'].value_counts()[:15].index,df_proc['Country'].value_counts()[:15].values)\n",
    "plt.xlabel('Countries')\n",
    "plt.title('Most affected countries')\n",
    "plt.ylabel('Number of attacks1\n",
    "plt.xticks(rotation= 90)\n",
    "plt.savefig(\"mostaffected.svg\")\n",
    "plt.show()"
   ]
  },
  {
   "cell_type": "code",
   "execution_count": null,
   "id": "ongoing-chair",
   "metadata": {},
   "outputs": [],
   "source": [
    "big = df_proc.groupby(['Killed'])['Group','Country','Year','TargetType'].max().sort_values(by='Killed',ascending=False).iloc[0:10]\n",
    "big"
   ]
  },
  {
   "cell_type": "code",
   "execution_count": null,
   "id": "structural-climb",
   "metadata": {},
   "outputs": [],
   "source": [
    "grp = df_proc.groupby(['Group'])['Killed'].sum().sort_values(ascending=False).iloc[1:11] #idx 0 is unknown\n",
    "grp"
   ]
  },
  {
   "cell_type": "code",
   "execution_count": null,
   "id": "pleased-newman",
   "metadata": {},
   "outputs": [],
   "source": [
    "df_group10 = df_proc[df_proc.Group.isin(['Islamic State of Iraq and the Levant (ISIL)','Taliban','Boko Haram','Shining Path (SL)','Liberation Tigers of Tamil Eelam (LTTE)','Al-Shabaab','Farabundo Marti National Liberation Front (FMLN)','Nicaraguan Democratic Force (FDN)','Tehrik-i-Taliban Pakistan (TTP)','Revolutionary Armed Forces of Colombia (FARC)'])]\n",
    "df_group10"
   ]
  },
  {
   "cell_type": "code",
   "execution_count": null,
   "id": "looking-pharmacology",
   "metadata": {},
   "outputs": [],
   "source": [
    "figsize(16,8)\n",
    "sns.barplot(df_group10['Group'].value_counts(),df_group10['Group'].value_counts().index) \n",
    "plt.xlabel(\"Attacks\")\n",
    "plt.title(\"Biggest terrorist groups by no of attacks\")\n",
    "plt.savefig(\"biggestgroups.svg\")\n",
    "plt.show()"
   ]
  },
  {
   "cell_type": "code",
   "execution_count": null,
   "id": "exterior-psychology",
   "metadata": {},
   "outputs": [],
   "source": [
    "figsize(16,8)\n",
    "top=df_proc[df_proc['Group'].isin(df_proc['Group'].value_counts()[1:11].index)] #idx 0 is unknown\n",
    "pd.crosstab(top.Year,top.Group).plot(color=sns.color_palette(\"muted\"))\n",
    "plt.savefig(\"biggestgroupsbyyears.svg\")"
   ]
  },
  {
   "cell_type": "code",
   "execution_count": null,
   "id": "dominican-outreach",
   "metadata": {},
   "outputs": [],
   "source": [
    "attack = df_proc.pivot_table(columns='AttackType', values=('Killed','Wounded'), aggfunc='sum')\n",
    "attack"
   ]
  },
  {
   "cell_type": "code",
   "execution_count": null,
   "id": "inclusive-shanghai",
   "metadata": {},
   "outputs": [],
   "source": [
    "weap = df_proc.pivot_table(columns='WeaponType', values=('Killed','Wounded'), aggfunc='sum')\n",
    "weap"
   ]
  },
  {
   "cell_type": "code",
   "execution_count": null,
   "id": "reverse-music",
   "metadata": {},
   "outputs": [],
   "source": [
    "df_proc['TargetType'].value_counts()"
   ]
  },
  {
   "cell_type": "code",
   "execution_count": null,
   "id": "dried-decision",
   "metadata": {},
   "outputs": [],
   "source": [
    "figsize(16,8)\n",
    "sns.countplot('TargetType',order=df_proc['TargetType'].value_counts().index,data=df_proc)\n",
    "plt.xticks(rotation=90)\n",
    "plt.xlabel('Target Type')\n",
    "plt.savefig(\"targettypes.svg\")\n",
    "plt.show()"
   ]
  },
  {
   "cell_type": "code",
   "execution_count": null,
   "id": "fitting-pharmacology",
   "metadata": {},
   "outputs": [],
   "source": [
    "figsize(16,8)\n",
    "target=pd.crosstab(df_proc.TargetType,df_proc.AttackType)\n",
    "sns.heatmap(target,linewidths=.5, cmap='viridis').set_title('Type of attacks used against target')\n",
    "plt.savefig(\"attacksvstargets.svg\")"
   ]
  },
  {
   "cell_type": "code",
   "execution_count": null,
   "id": "mature-recruitment",
   "metadata": {},
   "outputs": [],
   "source": [
    "figsize(16,8)\n",
    "groupweap=pd.crosstab(df_group10.Group,df_proc.WeaponType)\n",
    "sns.heatmap(groupweap,linewidths=2, cmap='viridis').set_title('Most common weapon types')\n",
    "plt.savefig(\"groupswithweapons.svg\")"
   ]
  },
  {
   "cell_type": "code",
   "execution_count": null,
   "id": "dental-arkansas",
   "metadata": {},
   "outputs": [],
   "source": []
  }
 ],
 "metadata": {
  "kernelspec": {
   "display_name": "Python 3",
   "language": "python",
   "name": "python3"
  },
  "language_info": {
   "codemirror_mode": {
    "name": "ipython",
    "version": 3
   },
   "file_extension": ".py",
   "mimetype": "text/x-python",
   "name": "python",
   "nbconvert_exporter": "python",
   "pygments_lexer": "ipython3",
   "version": "3.8.5"
  }
 },
 "nbformat": 4,
 "nbformat_minor": 5
}
